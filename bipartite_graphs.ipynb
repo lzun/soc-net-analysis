{
  "nbformat": 4,
  "nbformat_minor": 0,
  "metadata": {
    "colab": {
      "name": "bipartite-graphs.ipynb",
      "provenance": []
    },
    "kernelspec": {
      "name": "python3",
      "display_name": "Python 3"
    },
    "language_info": {
      "name": "python"
    }
  },
  "cells": [
    {
      "cell_type": "code",
      "execution_count": 2,
      "metadata": {
        "id": "Xgel44A0YSc2"
      },
      "outputs": [],
      "source": [
        "import networkx as nx\n",
        "from networkx.algorithms import bipartite"
      ]
    },
    {
      "cell_type": "code",
      "source": [
        "B = nx.Graph()"
      ],
      "metadata": {
        "id": "fX1AWAqgYfgk"
      },
      "execution_count": 3,
      "outputs": []
    },
    {
      "cell_type": "code",
      "source": [
        "B.add_nodes_from(['A', 'B', 'C', 'D', 'E'], bipartite = 0)  # --> etiqueta de un lado de los nodos"
      ],
      "metadata": {
        "id": "P9jVvrS4Yod_"
      },
      "execution_count": 4,
      "outputs": []
    },
    {
      "cell_type": "code",
      "source": [
        "B.add_nodes_from([1,2,3,4], bipartite = 1) # --> etiqueta del otro lado de los nodos"
      ],
      "metadata": {
        "id": "M3BAiq7WY452"
      },
      "execution_count": 5,
      "outputs": []
    },
    {
      "cell_type": "code",
      "source": [
        "B.add_edges_from([('A',1), ('B',1), ('C',1), ('C',3), ('D',2), ('E',3), ('E', 4)]) # --> agregamos los enlaces entre los nodos"
      ],
      "metadata": {
        "id": "Y0AbWAdBZI3R"
      },
      "execution_count": 6,
      "outputs": []
    },
    {
      "cell_type": "code",
      "source": [
        "bipartite.is_bipartite(B)"
      ],
      "metadata": {
        "colab": {
          "base_uri": "https://localhost:8080/"
        },
        "id": "cZGqMErLaWa0",
        "outputId": "723d7d4f-4d2e-4d39-e9ac-c93e5ae7f7ab"
      },
      "execution_count": 12,
      "outputs": [
        {
          "output_type": "execute_result",
          "data": {
            "text/plain": [
              "True"
            ]
          },
          "metadata": {},
          "execution_count": 12
        }
      ]
    },
    {
      "cell_type": "markdown",
      "source": [
        "https://networkx.org/documentation/stable/reference/algorithms/bipartite.html#module-networkx.algorithms.bipartite"
      ],
      "metadata": {
        "id": "ydG7XuIHeg8q"
      }
    },
    {
      "cell_type": "code",
      "source": [
        "bipartite.sets(B)"
      ],
      "metadata": {
        "id": "Dl3ZQZu3cUik"
      },
      "execution_count": null,
      "outputs": []
    },
    {
      "cell_type": "code",
      "source": [
        "top_nodes = {n for n, d in B.nodes(data=True) if d[\"bipartite\"] == 0}\n",
        "top_nodes"
      ],
      "metadata": {
        "colab": {
          "base_uri": "https://localhost:8080/"
        },
        "id": "Mz2mBuAxdhoF",
        "outputId": "293c1f7d-140c-4f64-fad4-13fc299d06b3"
      },
      "execution_count": 20,
      "outputs": [
        {
          "output_type": "execute_result",
          "data": {
            "text/plain": [
              "{'A', 'B', 'C', 'D', 'E'}"
            ]
          },
          "metadata": {},
          "execution_count": 20
        }
      ]
    },
    {
      "cell_type": "code",
      "source": [
        "bottom_nodes = set(B) - top_nodes"
      ],
      "metadata": {
        "id": "y5vtXawgdp4j"
      },
      "execution_count": 17,
      "outputs": []
    },
    {
      "cell_type": "code",
      "source": [
        "# graficar\n",
        "pos = nx.bipartite_layout(B, top_nodes)\n",
        "nx.draw_networkx(B, pos)"
      ],
      "metadata": {
        "colab": {
          "base_uri": "https://localhost:8080/",
          "height": 248
        },
        "id": "0ljHvGWBZx_V",
        "outputId": "d66e9841-f8ab-4ac5-92db-d74090dee41a"
      },
      "execution_count": 18,
      "outputs": [
        {
          "output_type": "display_data",
          "data": {
            "text/plain": [
              "<Figure size 432x288 with 1 Axes>"
            ],
            "image/png": "[encoded data removed]"
          },
          "metadata": {}
        }
      ]
    },
    {
      "cell_type": "markdown",
      "source": [
        "Proyección bipartita para los fans:\n",
        "\n"
      ],
      "metadata": {
        "id": "IisLYCOqjGKq"
      }
    },
    {
      "cell_type": "code",
      "source": [
        "P_f = bipartite.projected_graph(B, top_nodes)"
      ],
      "metadata": {
        "id": "mrcPrSV2jFUa"
      },
      "execution_count": 21,
      "outputs": []
    },
    {
      "cell_type": "code",
      "source": [
        "nx.draw_networkx(P_f)"
      ],
      "metadata": {
        "colab": {
          "base_uri": "https://localhost:8080/",
          "height": 248
        },
        "id": "ZmgNMHrujoGD",
        "outputId": "86dfd377-18af-452c-d0e2-17d942443bd8"
      },
      "execution_count": 22,
      "outputs": [
        {
          "output_type": "display_data",
          "data": {
            "text/plain": [
              "<Figure size 432x288 with 1 Axes>"
            ],
            "image/png": "[encoded data removed]"
          },
          "metadata": {}
        }
      ]
    },
    {
      "cell_type": "markdown",
      "source": [
        "Proyección bipartita para los equipos:"
      ],
      "metadata": {
        "id": "MHIw4di1kC-B"
      }
    },
    {
      "cell_type": "code",
      "source": [
        "P_t = bipartite.projected_graph(B, bottom_nodes)"
      ],
      "metadata": {
        "id": "eIJ4z85lkK7N"
      },
      "execution_count": 23,
      "outputs": []
    },
    {
      "cell_type": "code",
      "source": [
        "nx.draw_networkx(P_t)"
      ],
      "metadata": {
        "colab": {
          "base_uri": "https://localhost:8080/",
          "height": 248
        },
        "id": "HWv1a0BjkL2j",
        "outputId": "09c30f46-b2db-4123-b164-3d0c32770483"
      },
      "execution_count": 24,
      "outputs": [
        {
          "output_type": "display_data",
          "data": {
            "text/plain": [
              "<Figure size 432x288 with 1 Axes>"
            ],
            "image/png": "[encoded data removed]"
          },
          "metadata": {}
        }
      ]
    },
    {
      "cell_type": "markdown",
      "source": [
        "Proyección bipartita con pesos para los equipos:"
      ],
      "metadata": {
        "id": "0Zb42CNSnqJi"
      }
    },
    {
      "cell_type": "code",
      "source": [
        "P_w = bipartite.weighted_projected_graph(B, bottom_nodes)\n",
        "pos = nx.spring_layout(P_w)\n",
        "nx.draw_networkx(P_w, pos)\n",
        "labels = nx.get_edge_attributes(P_w,'weight')\n",
        "nx.draw_networkx_edge_labels(P_w,pos,edge_labels=labels)"
      ],
      "metadata": {
        "colab": {
          "base_uri": "https://localhost:8080/",
          "height": 283
        },
        "id": "G36PmTyunuPu",
        "outputId": "ad06e1cd-b6e4-438e-b9eb-2d4abc6d109d"
      },
      "execution_count": 28,
      "outputs": [
        {
          "output_type": "execute_result",
          "data": {
            "text/plain": [
              "{(1, 3): Text(-0.40105297935327655, 0.06644668395437026, '1'),\n",
              " (3, 4): Text(-0.26044301527960295, 0.2402215682262373, '1')}"
            ]
          },
          "metadata": {},
          "execution_count": 28
        },
        {
          "output_type": "display_data",
          "data": {
            "text/plain": [
              "<Figure size 432x288 with 1 Axes>"
            ],
            "image/png": "[encoded data removed]"
          },
          "metadata": {}
        }
      ]
    }
  ]
}