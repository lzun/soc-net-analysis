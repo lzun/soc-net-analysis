{
  "nbformat": 4,
  "nbformat_minor": 0,
  "metadata": {
    "colab": {
      "name": "topic_modeling.ipynb",
      "provenance": []
    },
    "kernelspec": {
      "name": "python3",
      "display_name": "Python 3"
    },
    "language_info": {
      "name": "python"
    }
  },
  "cells": [
    {
      "cell_type": "code",
      "source": [
        "!pip install pickle5"
      ],
      "metadata": {
        "colab": {
          "base_uri": "https://localhost:8080/"
        },
        "id": "VUeUgHOFUV35",
        "outputId": "7c10589c-1944-45fd-fdb1-b7a924d87ad3"
      },
      "execution_count": null,
      "outputs": [
        {
          "output_type": "stream",
          "name": "stdout",
          "text": [
            "Collecting pickle5\n",
            "  Downloading pickle5-0.0.12-cp37-cp37m-manylinux_2_5_x86_64.manylinux1_x86_64.whl (256 kB)\n",
            "\u001b[K     |████████████████████████████████| 256 kB 4.2 MB/s \n",
            "\u001b[?25hInstalling collected packages: pickle5\n",
            "Successfully installed pickle5-0.0.12\n"
          ]
        }
      ]
    },
    {
      "cell_type": "code",
      "execution_count": null,
      "metadata": {
        "id": "c8vS3V1eSfO5"
      },
      "outputs": [],
      "source": [
        "import gensim\n",
        "import pickle5\n",
        "from gensim import corpora, models\n",
        "import pprint"
      ]
    },
    {
      "cell_type": "code",
      "source": [
        "with open('ukraine_processed.pickle', 'rb') as f:\n",
        "  data = pickle5.load(f)"
      ],
      "metadata": {
        "id": "oERQv6UlS1cT"
      },
      "execution_count": null,
      "outputs": []
    },
    {
      "cell_type": "code",
      "source": [
        "len(data)"
      ],
      "metadata": {
        "id": "ou_FbJGCG04x",
        "outputId": "a9fe9470-d474-4c62-e985-b63fc50e21d3",
        "colab": {
          "base_uri": "https://localhost:8080/"
        }
      },
      "execution_count": null,
      "outputs": [
        {
          "output_type": "execute_result",
          "data": {
            "text/plain": [
              "9979"
            ]
          },
          "metadata": {},
          "execution_count": 20
        }
      ]
    },
    {
      "cell_type": "code",
      "source": [
        "print(data[:5])"
      ],
      "metadata": {
        "colab": {
          "base_uri": "https://localhost:8080/"
        },
        "id": "7oXZj3SrVLHC",
        "outputId": "6ac84096-335c-4f84-b511-4a19e4feb2d0"
      },
      "execution_count": null,
      "outputs": [
        {
          "output_type": "stream",
          "name": "stdout",
          "text": [
            "[['go', 'start', 'isnt', 'rhetor', 'west', 'increas', 'tension', 'amp', 'one', 'misplac', 'phrase', 'could', 'trigger', 'conflict', 'send', '🤡'], ['hm', 'may', 'want', 'check', 'biden', 'famili', 'tie', 'amp', 'china', '’', 'great', 'stori', 'way…jo', '’', 'big', 'guy', 'storylin'], ['bring', 'back', 'militari', 'infrastructur', 'allianc', 'statu', 'quo', 'russianato', 'treati', 'sign'], ['presid', 'putin', 'russian', 'concern', 'basic', 'ignoredw', '’', 'see', 'adequ', 'respons', 'key', 'concern', 'nonexpans', 'nato', 'refus', 'deploy', 'offens', 'weapon', 'next', 'russian', 'border'], ['bombshel', 'key', 'evid', 'undermin', 'impeach', 'narr', 'withheld', 'trump', 'defens']]\n"
          ]
        }
      ]
    },
    {
      "cell_type": "markdown",
      "source": [
        "Vamos a crear un diccionario con la información procesada que contenga el número de veces que una palabra aparezca en los documentos."
      ],
      "metadata": {
        "id": "B6rmTU2gTSq5"
      }
    },
    {
      "cell_type": "code",
      "source": [
        "dictionary = gensim.corpora.Dictionary(data)"
      ],
      "metadata": {
        "id": "8B0N8FvGTSBY"
      },
      "execution_count": null,
      "outputs": []
    },
    {
      "cell_type": "code",
      "source": [
        "count = 0\n",
        "for k, v in dictionary.iteritems():\n",
        "  print(k, v)\n",
        "  count += 1\n",
        "  if count > 10:\n",
        "    break"
      ],
      "metadata": {
        "id": "FssXA6bYVW8d",
        "colab": {
          "base_uri": "https://localhost:8080/"
        },
        "outputId": "9b8fe05d-849e-44c7-cd05-a10bd2b7042c"
      },
      "execution_count": null,
      "outputs": [
        {
          "output_type": "stream",
          "name": "stdout",
          "text": [
            "0 amp\n",
            "1 conflict\n",
            "2 could\n",
            "3 go\n",
            "4 increas\n",
            "5 isnt\n",
            "6 misplac\n",
            "7 one\n",
            "8 phrase\n",
            "9 rhetor\n",
            "10 send\n"
          ]
        }
      ]
    },
    {
      "cell_type": "code",
      "source": [
        "len(dictionary)"
      ],
      "metadata": {
        "colab": {
          "base_uri": "https://localhost:8080/"
        },
        "id": "moYpYlLrGJBh",
        "outputId": "480a52ce-2211-4f55-ef82-7fd02a4b5657"
      },
      "execution_count": null,
      "outputs": [
        {
          "output_type": "execute_result",
          "data": {
            "text/plain": [
              "1451"
            ]
          },
          "metadata": {},
          "execution_count": 15
        }
      ]
    },
    {
      "cell_type": "markdown",
      "source": [
        "Filtrar las palabras que aparezcan:\n",
        "\n",
        "\n",
        "*   en menos de 15 tweets\n",
        "*   más de 1 tweet\n",
        "* conservar los 100000 tokens más frecuentes\n",
        "\n"
      ],
      "metadata": {
        "id": "C3CwDK8jVp-R"
      }
    },
    {
      "cell_type": "code",
      "source": [
        "dictionary.filter_extremes(no_below=15, no_above=1, keep_n=100000)"
      ],
      "metadata": {
        "id": "oR5zvu-qVkhg"
      },
      "execution_count": null,
      "outputs": []
    },
    {
      "cell_type": "markdown",
      "source": [
        "\n",
        "Para cada documento creamos un diccionario informando cuántas\n",
        "palabras y cuántas veces aparecen. Se guarda esto en `bow_corpus`.\n",
        "\n"
      ],
      "metadata": {
        "id": "MjltLaR-WEcO"
      }
    },
    {
      "cell_type": "code",
      "source": [
        "bow_corpus = [dictionary.doc2bow(doc) for doc in data]"
      ],
      "metadata": {
        "id": "_0KSp92QWD1W"
      },
      "execution_count": null,
      "outputs": []
    },
    {
      "cell_type": "code",
      "source": [
        "bow_corpus[1]"
      ],
      "metadata": {
        "id": "Do0a-vRdWb7F",
        "colab": {
          "base_uri": "https://localhost:8080/"
        },
        "outputId": "d297c4f2-5dcd-4b65-ffa7-db8b84d2589e"
      },
      "execution_count": null,
      "outputs": [
        {
          "output_type": "execute_result",
          "data": {
            "text/plain": [
              "[(0, 1),\n",
              " (13, 1),\n",
              " (14, 1),\n",
              " (15, 1),\n",
              " (16, 1),\n",
              " (17, 1),\n",
              " (18, 1),\n",
              " (19, 1),\n",
              " (20, 1),\n",
              " (21, 1),\n",
              " (22, 1),\n",
              " (23, 1),\n",
              " (24, 2)]"
            ]
          },
          "metadata": {},
          "execution_count": 17
        }
      ]
    },
    {
      "cell_type": "code",
      "source": [
        "bow_doc_1 = bow_corpus[0]\n",
        "\n",
        "for i in range(len(bow_doc_1)):\n",
        "  print(\"Word {} (\\\"{}\\\") appears {} time.\".format(bow_doc_1[i][0], \n",
        "                                               dictionary[bow_doc_1[i][0]], \n",
        "                                               bow_doc_1[i][1])) "
      ],
      "metadata": {
        "id": "k-jog0PWWiS9",
        "colab": {
          "base_uri": "https://localhost:8080/"
        },
        "outputId": "eaf1d8f4-0ed3-421e-8fb8-8298dce98157"
      },
      "execution_count": null,
      "outputs": [
        {
          "output_type": "stream",
          "name": "stdout",
          "text": [
            "Word 0 (\"amp\") appears 1 time.\n",
            "Word 1 (\"conflict\") appears 1 time.\n",
            "Word 2 (\"could\") appears 1 time.\n",
            "Word 3 (\"go\") appears 1 time.\n",
            "Word 4 (\"increas\") appears 1 time.\n",
            "Word 5 (\"isnt\") appears 1 time.\n",
            "Word 6 (\"one\") appears 1 time.\n",
            "Word 7 (\"rhetor\") appears 1 time.\n",
            "Word 8 (\"send\") appears 1 time.\n",
            "Word 9 (\"start\") appears 1 time.\n",
            "Word 10 (\"tension\") appears 1 time.\n",
            "Word 11 (\"trigger\") appears 1 time.\n",
            "Word 12 (\"west\") appears 1 time.\n"
          ]
        }
      ]
    },
    {
      "cell_type": "code",
      "source": [
        "tfidf = models.TfidfModel(bow_corpus)\n",
        "corpus_tfidf = tfidf[bow_corpus]"
      ],
      "metadata": {
        "id": "d4rB7K6XXHYm"
      },
      "execution_count": null,
      "outputs": []
    },
    {
      "cell_type": "code",
      "source": [
        "for doc in corpus_tfidf:\n",
        "  pprint.pprint(doc)\n",
        "  break"
      ],
      "metadata": {
        "id": "mzwiEz8SXMtj",
        "colab": {
          "base_uri": "https://localhost:8080/"
        },
        "outputId": "235aed22-b308-4964-d71c-9746dc201948"
      },
      "execution_count": null,
      "outputs": [
        {
          "output_type": "stream",
          "name": "stdout",
          "text": [
            "[(0, 0.1850349951440687),\n",
            " (1, 0.26601864479358556),\n",
            " (2, 0.2510749876663248),\n",
            " (3, 0.19271678623717745),\n",
            " (4, 0.3386186475170189),\n",
            " (5, 0.32162597538577486),\n",
            " (6, 0.2311765284770271),\n",
            " (7, 0.37790632989521894),\n",
            " (8, 0.23859156812216317),\n",
            " (9, 0.26909259350176234),\n",
            " (10, 0.21545773953039843),\n",
            " (11, 0.38903387847731846),\n",
            " (12, 0.23097603273752457)]\n"
          ]
        }
      ]
    },
    {
      "cell_type": "code",
      "source": [
        "lda_model_tfidf = gensim.models.LdaMulticore(corpus_tfidf, num_topics=10, id2word=dictionary, passes=2, workers=4)"
      ],
      "metadata": {
        "id": "c3XnRGepeMNW"
      },
      "execution_count": null,
      "outputs": []
    },
    {
      "cell_type": "code",
      "source": [
        "for idx, topic in lda_model_tfidf.print_topics(-1):\n",
        "  print('Topic: {} Word: {}'.format(idx, topic))"
      ],
      "metadata": {
        "id": "4rPuIRnQeR7H"
      },
      "execution_count": null,
      "outputs": []
    },
    {
      "cell_type": "code",
      "source": [
        "for index, score in sorted(lda_model_tfidf[bow_corpus[4310]], key=lambda tup: -1*tup[1]):\n",
        "  print(\"\\nScore: {}\\t \\nTopic: {}\".format(score, lda_model_tfidf.print_topic(index, 10)))"
      ],
      "metadata": {
        "id": "fsKlqN5efE17"
      },
      "execution_count": null,
      "outputs": []
    },
    {
      "cell_type": "markdown",
      "source": [
        "\n",
        "\n",
        "---\n",
        "\n"
      ],
      "metadata": {
        "id": "hV5hnVwPGYhX"
      }
    },
    {
      "cell_type": "markdown",
      "source": [
        "Vamos a realizar una máquina de vectores de soporte."
      ],
      "metadata": {
        "id": "_rchIDRgGZ7o"
      }
    }
  ]
}