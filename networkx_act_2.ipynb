{
  "nbformat": 4,
  "nbformat_minor": 0,
  "metadata": {
    "colab": {
      "name": "networkx-act-2.ipynb",
      "provenance": []
    },
    "kernelspec": {
      "name": "python3",
      "display_name": "Python 3"
    },
    "language_info": {
      "name": "python"
    }
  },
  "cells": [
    {
      "cell_type": "markdown",
      "source": [
        "Ocho empleados de una pequeña empresa eligieron las 3 películas que más les gustaría ver para la próxima noche de cine de la empresa. Estas opciones se almacenan en el archivo `Employee_Movie_Choices.txt`.\n",
        "\n",
        "Un segundo archivo, `Employee_Relationships.txt`, tiene datos sobre las relaciones entre diferentes compañeros de trabajo.\n",
        "\n",
        "La puntuación de la relación tiene un valor de -100 (enemigos) a +100 (mejores amigos). Un valor de cero significa que los dos empleados no han interactuado o son indiferentes.\n",
        "\n",
        "Ambos archivos están delimitados por tabuladores."
      ],
      "metadata": {
        "id": "aNBX0wvT0AJQ"
      }
    },
    {
      "cell_type": "code",
      "source": [
        "import networkx as nx\n",
        "import pandas as pd\n",
        "import numpy as np\n",
        "from networkx.algorithms import bipartite\n",
        "import matplotlib.pyplot as plt"
      ],
      "metadata": {
        "id": "La8p0JSJQSI_"
      },
      "execution_count": null,
      "outputs": []
    },
    {
      "cell_type": "code",
      "execution_count": null,
      "metadata": {
        "id": "gkbIvCQxQPAV"
      },
      "outputs": [],
      "source": [
        "# Conjunto de Empleados\n",
        "employees = set(['Pablo',\n",
        "                 'Lee',\n",
        "                 'Georgia',\n",
        "                 'Vincent',\n",
        "                 'Andy',\n",
        "                 'Frida',\n",
        "                 'Joan',\n",
        "                 'Claude'])\n",
        "\n",
        "# Conjunto de peliculas\n",
        "movies = set(['The Shawshank Redemption',\n",
        "              'Forrest Gump',\n",
        "              'The Matrix',\n",
        "              'Anaconda',\n",
        "              'The Social Network',\n",
        "              'The Godfather',\n",
        "              'Monty Python and the Holy Grail',\n",
        "              'Snakes on a Plane',\n",
        "              'Kung Fu Panda',\n",
        "              'The Dark Knight',\n",
        "              'Mean Girls'])"
      ]
    },
    {
      "cell_type": "code",
      "source": [
        "def plot_graph(G, weight_name=None):\n",
        "  '''\n",
        "  G: a networkx G\n",
        "  weight_name: name of the attribute for plotting edge weights (if G is weighted)\n",
        "  '''\n",
        "    \n",
        "  plt.figure()\n",
        "  pos = nx.spring_layout(G)\n",
        "  edges = G.edges()\n",
        "  weights = None\n",
        "    \n",
        "  if weight_name:\n",
        "    weights = [int(G[u][v][weight_name]) for u,v in edges]\n",
        "    labels = nx.get_edge_attributes(G,weight_name)\n",
        "    nx.draw_networkx_edge_labels(G,pos,edge_labels=labels)\n",
        "    nx.draw_networkx(G, pos, edges=edges, width=weights);\n",
        "  else:\n",
        "    nx.draw_networkx(G, pos, edges=edges);"
      ],
      "metadata": {
        "id": "1psLNfzNQpTD"
      },
      "execution_count": null,
      "outputs": []
    },
    {
      "cell_type": "markdown",
      "source": [
        "##Pregunta 1\n",
        "\n",
        "Usando networkx, carguen el grafo almacenado en el archivo `Employee_Movie_Choices.txt`. Después, crear el grafo bipartito. En total, deben de crearse 24 nodos y 19 enlaces."
      ],
      "metadata": {
        "id": "NOhzP7B42Xe7"
      }
    },
    {
      "cell_type": "code",
      "source": [
        "G_df = pd.read_csv('Employee_Movie_Choices.txt', sep='\\t', skiprows=1, names=['empleados', 'peliculas'])\n",
        "G_e = nx.from_pandas_edgelist(G_df, 'empleados', 'peliculas')"
      ],
      "metadata": {
        "id": "vcqwo7C6F09-"
      },
      "execution_count": null,
      "outputs": []
    },
    {
      "cell_type": "code",
      "source": [
        "G_e.number_of_nodes()"
      ],
      "metadata": {
        "colab": {
          "base_uri": "https://localhost:8080/"
        },
        "id": "fB4Vc13uUTcx",
        "outputId": "c637a7cc-514c-4887-b855-152b7ae0f46c"
      },
      "execution_count": null,
      "outputs": [
        {
          "output_type": "execute_result",
          "data": {
            "text/plain": [
              "19"
            ]
          },
          "metadata": {},
          "execution_count": 13
        }
      ]
    },
    {
      "cell_type": "code",
      "source": [
        "G_e.number_of_edges()"
      ],
      "metadata": {
        "colab": {
          "base_uri": "https://localhost:8080/"
        },
        "id": "SSAg16c6UUpB",
        "outputId": "8eec5758-21ce-4ec3-e954-16ca9c5ff1a8"
      },
      "execution_count": null,
      "outputs": [
        {
          "output_type": "execute_result",
          "data": {
            "text/plain": [
              "24"
            ]
          },
          "metadata": {},
          "execution_count": 14
        }
      ]
    },
    {
      "cell_type": "code",
      "source": [
        "pos = nx.bipartite_layout(G_e, employees)\n",
        "nx.draw_networkx(G_e, pos)"
      ],
      "metadata": {
        "colab": {
          "base_uri": "https://localhost:8080/",
          "height": 248
        },
        "id": "taAvlBfw6BDN",
        "outputId": "ddcc2283-9282-4f43-b6b8-56d9cdd2e4f7"
      },
      "execution_count": null,
      "outputs": [
        {
          "output_type": "display_data",
          "data": {
            "text/plain": [
              "<Figure size 432x288 with 1 Axes>"
            ],
            "image/png": "[encoded data removed]"
          },
          "metadata": {}
        }
      ]
    },
    {
      "cell_type": "markdown",
      "source": [
        "##Pregunta 2\n",
        "\n",
        "Usando el grafo creado en el punto anterior, añadir atributos llamados `'type'` donde las películas tengan el valor `'pelicula'` y los empleados tengan al valor `'empleado'`. "
      ],
      "metadata": {
        "id": "BqfI8VeBSZpk"
      }
    },
    {
      "cell_type": "code",
      "source": [
        "for e in employees:\n",
        "  G_e.add_node(e, type = 'empleado')\n",
        "\n",
        "for i in movies:\n",
        "  G_e.add_node(i, type = 'pelicula')"
      ],
      "metadata": {
        "id": "v-Tx_jnSS_8A"
      },
      "execution_count": null,
      "outputs": []
    },
    {
      "cell_type": "code",
      "source": [
        "G_e.nodes(data=True)"
      ],
      "metadata": {
        "colab": {
          "base_uri": "https://localhost:8080/"
        },
        "id": "KAUzFo9uTw2B",
        "outputId": "1bb71f75-54bf-4979-bbd5-01c8c14bb2cb"
      },
      "execution_count": null,
      "outputs": [
        {
          "output_type": "execute_result",
          "data": {
            "text/plain": [
              "NodeDataView({'Andy': {'type': 'empleado'}, 'Anaconda': {'type': 'pelicula'}, 'Mean Girls': {'type': 'pelicula'}, 'The Matrix': {'type': 'pelicula'}, 'Claude': {'type': 'empleado'}, 'Monty Python and the Holy Grail': {'type': 'pelicula'}, 'Snakes on a Plane': {'type': 'pelicula'}, 'Frida': {'type': 'empleado'}, 'The Shawshank Redemption': {'type': 'pelicula'}, 'The Social Network': {'type': 'pelicula'}, 'Georgia': {'type': 'empleado'}, 'Joan': {'type': 'empleado'}, 'Forrest Gump': {'type': 'pelicula'}, 'Kung Fu Panda': {'type': 'pelicula'}, 'Lee': {'type': 'empleado'}, 'Pablo': {'type': 'empleado'}, 'The Dark Knight': {'type': 'pelicula'}, 'Vincent': {'type': 'empleado'}, 'The Godfather': {'type': 'pelicula'}})"
            ]
          },
          "metadata": {},
          "execution_count": 17
        }
      ]
    },
    {
      "cell_type": "markdown",
      "source": [
        "##Pregunta 3\n",
        "Encontrar la proyección ponderada del grafo del punto anterior. ¿Qué nos indica esta proyección?"
      ],
      "metadata": {
        "id": "eCIYWlp3UiQJ"
      }
    },
    {
      "cell_type": "code",
      "source": [
        "P_w = bipartite.weighted_projected_graph(G_e, employees)"
      ],
      "metadata": {
        "id": "AmumTPEyUhfi"
      },
      "execution_count": null,
      "outputs": []
    },
    {
      "cell_type": "code",
      "source": [
        "pos = nx.spring_layout(P_w)\n",
        "nx.draw_networkx(P_w, pos)\n",
        "labels = nx.get_edge_attributes(P_w,'weight')\n",
        "nx.draw_networkx_edge_labels(P_w,pos,edge_labels=labels)"
      ],
      "metadata": {
        "colab": {
          "base_uri": "https://localhost:8080/",
          "height": 439
        },
        "id": "IeC4IU0pVlSZ",
        "outputId": "a89ea3a3-0647-4c69-a79f-9a2745a446c7"
      },
      "execution_count": null,
      "outputs": [
        {
          "output_type": "execute_result",
          "data": {
            "text/plain": [
              "{('Andy', 'Frida'): Text(0.22044947090620332, 0.08435453557567903, '1'),\n",
              " ('Andy', 'Pablo'): Text(0.2059858960143791, -0.0668020367436582, '1'),\n",
              " ('Claude', 'Andy'): Text(-0.3584496821229372, -0.2673789116960395, '1'),\n",
              " ('Claude', 'Georgia'): Text(-0.4587834733617091, -0.5810220726303779, '3'),\n",
              " ('Frida', 'Pablo'): Text(0.5591076476606787, 0.041395636257576154, '2'),\n",
              " ('Georgia', 'Andy'): Text(-0.2330060719788682, -0.33748629835989374, '1'),\n",
              " ('Joan', 'Andy'): Text(-0.2763644893017853, 0.26920315779638276, '1'),\n",
              " ('Lee', 'Andy'): Text(-0.3902958253672325, 0.18163669449524833, '1'),\n",
              " ('Lee', 'Joan'): Text(-0.5339880339289215, 0.4746829897171864, '3'),\n",
              " ('Vincent', 'Frida'): Text(0.7867856112762515, 0.17314111965684967, '2'),\n",
              " ('Vincent', 'Pablo'): Text(0.7723220363844272, 0.02198454733751244, '1')}"
            ]
          },
          "metadata": {},
          "execution_count": 25
        },
        {
          "output_type": "display_data",
          "data": {
            "text/plain": [
              "<Figure size 432x288 with 1 Axes>"
            ],
            "image/png": "[encoded data removed]"
          },
          "metadata": {}
        }
      ]
    },
    {
      "cell_type": "markdown",
      "source": [
        "##Pregunta 4\n",
        "\n",
        "Supongan que quieren determinar si las personas que tienen un valor alto de afinidad también les gusta las mismas películas.\n",
        "\n",
        "Para esto, vamos a utilizar la correlación de Pearson mediante DataFrame.corr() entre el valor de afinidad y el número de películas que tienen en común. Si dos empleados no tienen películas en común, se considera que el valor es 0, no NaN."
      ],
      "metadata": {
        "id": "dmWgVqe2V-lc"
      }
    },
    {
      "cell_type": "code",
      "source": [
        "ws = nx.get_edge_attributes(P_w,'weight')\n",
        "ws"
      ],
      "metadata": {
        "colab": {
          "base_uri": "https://localhost:8080/"
        },
        "id": "W9fKhzURV-JL",
        "outputId": "d2cdd7c5-ea15-45e3-add6-0a9ffd79c79d"
      },
      "execution_count": null,
      "outputs": [
        {
          "output_type": "execute_result",
          "data": {
            "text/plain": [
              "{('Andy', 'Frida'): 1,\n",
              " ('Andy', 'Pablo'): 1,\n",
              " ('Claude', 'Andy'): 1,\n",
              " ('Claude', 'Georgia'): 3,\n",
              " ('Frida', 'Pablo'): 2,\n",
              " ('Georgia', 'Andy'): 1,\n",
              " ('Joan', 'Andy'): 1,\n",
              " ('Lee', 'Andy'): 1,\n",
              " ('Lee', 'Joan'): 3,\n",
              " ('Vincent', 'Frida'): 2,\n",
              " ('Vincent', 'Pablo'): 1}"
            ]
          },
          "metadata": {},
          "execution_count": 50
        }
      ]
    },
    {
      "cell_type": "code",
      "source": [
        "r_df = pd.read_csv('Employee_Relationships.txt', sep='\\t', names=['e1','e2', 'relacion'])"
      ],
      "metadata": {
        "id": "Ca1n47qPYHxH"
      },
      "execution_count": null,
      "outputs": []
    },
    {
      "cell_type": "code",
      "source": [
        "for index, row in r_df.iterrows():\n",
        "  try:\n",
        "    r_df.loc[index, 'peso'] = ws[(row['e1'], row['e2'])]\n",
        "  except:\n",
        "    r_df.loc[index, 'peso'] = 0\n",
        "\n",
        "for index, row in r_df.iterrows():\n",
        "  try:\n",
        "    r_df.loc[index, 'peso'] = ws[(row['e2'], row['e1'])]\n",
        "  except:\n",
        "    pass"
      ],
      "metadata": {
        "id": "6m0vWfKAhWa9"
      },
      "execution_count": null,
      "outputs": []
    },
    {
      "cell_type": "code",
      "source": [
        "r_df"
      ],
      "metadata": {
        "colab": {
          "base_uri": "https://localhost:8080/",
          "height": 927
        },
        "id": "Af0e3-MNale9",
        "outputId": "e0fdee77-8a7b-452a-a0d4-29fd54545dc1"
      },
      "execution_count": null,
      "outputs": [
        {
          "output_type": "execute_result",
          "data": {
            "text/plain": [
              "         e1       e2  relacion  peso\n",
              "0      Andy   Claude         0   1.0\n",
              "1      Andy    Frida        20   1.0\n",
              "2      Andy  Georgia       -10   1.0\n",
              "3      Andy     Joan        30   1.0\n",
              "4      Andy      Lee       -10   1.0\n",
              "5      Andy    Pablo       -10   1.0\n",
              "6      Andy  Vincent        20   0.0\n",
              "7    Claude    Frida         0   0.0\n",
              "8    Claude  Georgia        90   3.0\n",
              "9    Claude     Joan         0   0.0\n",
              "10   Claude      Lee         0   0.0\n",
              "11   Claude    Pablo        10   0.0\n",
              "12   Claude  Vincent         0   0.0\n",
              "13    Frida  Georgia         0   0.0\n",
              "14    Frida     Joan         0   0.0\n",
              "15    Frida      Lee         0   0.0\n",
              "16    Frida    Pablo        50   2.0\n",
              "17    Frida  Vincent        60   2.0\n",
              "18  Georgia     Joan         0   0.0\n",
              "19  Georgia      Lee        10   0.0\n",
              "20  Georgia    Pablo         0   0.0\n",
              "21  Georgia  Vincent         0   0.0\n",
              "22     Joan      Lee        70   3.0\n",
              "23     Joan    Pablo         0   0.0\n",
              "24     Joan  Vincent        10   0.0\n",
              "25      Lee    Pablo         0   0.0\n",
              "26      Lee  Vincent         0   0.0\n",
              "27    Pablo  Vincent       -20   1.0"
            ],
            "text/html": [
              "\n",
              "  <div id=\"df-49ee69d3-a2e2-4cf7-8ca8-580224f757b6\">\n",
              "    <div class=\"colab-df-container\">\n",
              "      <div>\n",
              "<style scoped>\n",
              "    .dataframe tbody tr th:only-of-type {\n",
              "        vertical-align: middle;\n",
              "    }\n",
              "\n",
              "    .dataframe tbody tr th {\n",
              "        vertical-align: top;\n",
              "    }\n",
              "\n",
              "    .dataframe thead th {\n",
              "        text-align: right;\n",
              "    }\n",
              "</style>\n",
              "<table border=\"1\" class=\"dataframe\">\n",
              "  <thead>\n",
              "    <tr style=\"text-align: right;\">\n",
              "      <th></th>\n",
              "      <th>e1</th>\n",
              "      <th>e2</th>\n",
              "      <th>relacion</th>\n",
              "      <th>peso</th>\n",
              "    </tr>\n",
              "  </thead>\n",
              "  <tbody>\n",
              "    <tr>\n",
              "      <th>0</th>\n",
              "      <td>Andy</td>\n",
              "      <td>Claude</td>\n",
              "      <td>0</td>\n",
              "      <td>1.0</td>\n",
              "    </tr>\n",
              "    <tr>\n",
              "      <th>1</th>\n",
              "      <td>Andy</td>\n",
              "      <td>Frida</td>\n",
              "      <td>20</td>\n",
              "      <td>1.0</td>\n",
              "    </tr>\n",
              "    <tr>\n",
              "      <th>2</th>\n",
              "      <td>Andy</td>\n",
              "      <td>Georgia</td>\n",
              "      <td>-10</td>\n",
              "      <td>1.0</td>\n",
              "    </tr>\n",
              "    <tr>\n",
              "      <th>3</th>\n",
              "      <td>Andy</td>\n",
              "      <td>Joan</td>\n",
              "      <td>30</td>\n",
              "      <td>1.0</td>\n",
              "    </tr>\n",
              "    <tr>\n",
              "      <th>4</th>\n",
              "      <td>Andy</td>\n",
              "      <td>Lee</td>\n",
              "      <td>-10</td>\n",
              "      <td>1.0</td>\n",
              "    </tr>\n",
              "    <tr>\n",
              "      <th>5</th>\n",
              "      <td>Andy</td>\n",
              "      <td>Pablo</td>\n",
              "      <td>-10</td>\n",
              "      <td>1.0</td>\n",
              "    </tr>\n",
              "    <tr>\n",
              "      <th>6</th>\n",
              "      <td>Andy</td>\n",
              "      <td>Vincent</td>\n",
              "      <td>20</td>\n",
              "      <td>0.0</td>\n",
              "    </tr>\n",
              "    <tr>\n",
              "      <th>7</th>\n",
              "      <td>Claude</td>\n",
              "      <td>Frida</td>\n",
              "      <td>0</td>\n",
              "      <td>0.0</td>\n",
              "    </tr>\n",
              "    <tr>\n",
              "      <th>8</th>\n",
              "      <td>Claude</td>\n",
              "      <td>Georgia</td>\n",
              "      <td>90</td>\n",
              "      <td>3.0</td>\n",
              "    </tr>\n",
              "    <tr>\n",
              "      <th>9</th>\n",
              "      <td>Claude</td>\n",
              "      <td>Joan</td>\n",
              "      <td>0</td>\n",
              "      <td>0.0</td>\n",
              "    </tr>\n",
              "    <tr>\n",
              "      <th>10</th>\n",
              "      <td>Claude</td>\n",
              "      <td>Lee</td>\n",
              "      <td>0</td>\n",
              "      <td>0.0</td>\n",
              "    </tr>\n",
              "    <tr>\n",
              "      <th>11</th>\n",
              "      <td>Claude</td>\n",
              "      <td>Pablo</td>\n",
              "      <td>10</td>\n",
              "      <td>0.0</td>\n",
              "    </tr>\n",
              "    <tr>\n",
              "      <th>12</th>\n",
              "      <td>Claude</td>\n",
              "      <td>Vincent</td>\n",
              "      <td>0</td>\n",
              "      <td>0.0</td>\n",
              "    </tr>\n",
              "    <tr>\n",
              "      <th>13</th>\n",
              "      <td>Frida</td>\n",
              "      <td>Georgia</td>\n",
              "      <td>0</td>\n",
              "      <td>0.0</td>\n",
              "    </tr>\n",
              "    <tr>\n",
              "      <th>14</th>\n",
              "      <td>Frida</td>\n",
              "      <td>Joan</td>\n",
              "      <td>0</td>\n",
              "      <td>0.0</td>\n",
              "    </tr>\n",
              "    <tr>\n",
              "      <th>15</th>\n",
              "      <td>Frida</td>\n",
              "      <td>Lee</td>\n",
              "      <td>0</td>\n",
              "      <td>0.0</td>\n",
              "    </tr>\n",
              "    <tr>\n",
              "      <th>16</th>\n",
              "      <td>Frida</td>\n",
              "      <td>Pablo</td>\n",
              "      <td>50</td>\n",
              "      <td>2.0</td>\n",
              "    </tr>\n",
              "    <tr>\n",
              "      <th>17</th>\n",
              "      <td>Frida</td>\n",
              "      <td>Vincent</td>\n",
              "      <td>60</td>\n",
              "      <td>2.0</td>\n",
              "    </tr>\n",
              "    <tr>\n",
              "      <th>18</th>\n",
              "      <td>Georgia</td>\n",
              "      <td>Joan</td>\n",
              "      <td>0</td>\n",
              "      <td>0.0</td>\n",
              "    </tr>\n",
              "    <tr>\n",
              "      <th>19</th>\n",
              "      <td>Georgia</td>\n",
              "      <td>Lee</td>\n",
              "      <td>10</td>\n",
              "      <td>0.0</td>\n",
              "    </tr>\n",
              "    <tr>\n",
              "      <th>20</th>\n",
              "      <td>Georgia</td>\n",
              "      <td>Pablo</td>\n",
              "      <td>0</td>\n",
              "      <td>0.0</td>\n",
              "    </tr>\n",
              "    <tr>\n",
              "      <th>21</th>\n",
              "      <td>Georgia</td>\n",
              "      <td>Vincent</td>\n",
              "      <td>0</td>\n",
              "      <td>0.0</td>\n",
              "    </tr>\n",
              "    <tr>\n",
              "      <th>22</th>\n",
              "      <td>Joan</td>\n",
              "      <td>Lee</td>\n",
              "      <td>70</td>\n",
              "      <td>3.0</td>\n",
              "    </tr>\n",
              "    <tr>\n",
              "      <th>23</th>\n",
              "      <td>Joan</td>\n",
              "      <td>Pablo</td>\n",
              "      <td>0</td>\n",
              "      <td>0.0</td>\n",
              "    </tr>\n",
              "    <tr>\n",
              "      <th>24</th>\n",
              "      <td>Joan</td>\n",
              "      <td>Vincent</td>\n",
              "      <td>10</td>\n",
              "      <td>0.0</td>\n",
              "    </tr>\n",
              "    <tr>\n",
              "      <th>25</th>\n",
              "      <td>Lee</td>\n",
              "      <td>Pablo</td>\n",
              "      <td>0</td>\n",
              "      <td>0.0</td>\n",
              "    </tr>\n",
              "    <tr>\n",
              "      <th>26</th>\n",
              "      <td>Lee</td>\n",
              "      <td>Vincent</td>\n",
              "      <td>0</td>\n",
              "      <td>0.0</td>\n",
              "    </tr>\n",
              "    <tr>\n",
              "      <th>27</th>\n",
              "      <td>Pablo</td>\n",
              "      <td>Vincent</td>\n",
              "      <td>-20</td>\n",
              "      <td>1.0</td>\n",
              "    </tr>\n",
              "  </tbody>\n",
              "</table>\n",
              "</div>\n",
              "      <button class=\"colab-df-convert\" onclick=\"convertToInteractive('df-49ee69d3-a2e2-4cf7-8ca8-580224f757b6')\"\n",
              "              title=\"Convert this dataframe to an interactive table.\"\n",
              "              style=\"display:none;\">\n",
              "        \n",
              "  <svg xmlns=\"http://www.w3.org/2000/svg\" height=\"24px\"viewBox=\"0 0 24 24\"\n",
              "       width=\"24px\">\n",
              "    <path d=\"M0 0h24v24H0V0z\" fill=\"none\"/>\n",
              "    <path d=\"M18.56 5.44l.94 2.06.94-2.06 2.06-.94-2.06-.94-.94-2.06-.94 2.06-2.06.94zm-11 1L8.5 8.5l.94-2.06 2.06-.94-2.06-.94L8.5 2.5l-.94 2.06-2.06.94zm10 10l.94 2.06.94-2.06 2.06-.94-2.06-.94-.94-2.06-.94 2.06-2.06.94z\"/><path d=\"M17.41 7.96l-1.37-1.37c-.4-.4-.92-.59-1.43-.59-.52 0-1.04.2-1.43.59L10.3 9.45l-7.72 7.72c-.78.78-.78 2.05 0 2.83L4 21.41c.39.39.9.59 1.41.59.51 0 1.02-.2 1.41-.59l7.78-7.78 2.81-2.81c.8-.78.8-2.07 0-2.86zM5.41 20L4 18.59l7.72-7.72 1.47 1.35L5.41 20z\"/>\n",
              "  </svg>\n",
              "      </button>\n",
              "      \n",
              "  <style>\n",
              "    .colab-df-container {\n",
              "      display:flex;\n",
              "      flex-wrap:wrap;\n",
              "      gap: 12px;\n",
              "    }\n",
              "\n",
              "    .colab-df-convert {\n",
              "      background-color: #E8F0FE;\n",
              "      border: none;\n",
              "      border-radius: 50%;\n",
              "      cursor: pointer;\n",
              "      display: none;\n",
              "      fill: #1967D2;\n",
              "      height: 32px;\n",
              "      padding: 0 0 0 0;\n",
              "      width: 32px;\n",
              "    }\n",
              "\n",
              "    .colab-df-convert:hover {\n",
              "      background-color: #E2EBFA;\n",
              "      box-shadow: 0px 1px 2px rgba(60, 64, 67, 0.3), 0px 1px 3px 1px rgba(60, 64, 67, 0.15);\n",
              "      fill: #174EA6;\n",
              "    }\n",
              "\n",
              "    [theme=dark] .colab-df-convert {\n",
              "      background-color: #3B4455;\n",
              "      fill: #D2E3FC;\n",
              "    }\n",
              "\n",
              "    [theme=dark] .colab-df-convert:hover {\n",
              "      background-color: #434B5C;\n",
              "      box-shadow: 0px 1px 3px 1px rgba(0, 0, 0, 0.15);\n",
              "      filter: drop-shadow(0px 1px 2px rgba(0, 0, 0, 0.3));\n",
              "      fill: #FFFFFF;\n",
              "    }\n",
              "  </style>\n",
              "\n",
              "      <script>\n",
              "        const buttonEl =\n",
              "          document.querySelector('#df-49ee69d3-a2e2-4cf7-8ca8-580224f757b6 button.colab-df-convert');\n",
              "        buttonEl.style.display =\n",
              "          google.colab.kernel.accessAllowed ? 'block' : 'none';\n",
              "\n",
              "        async function convertToInteractive(key) {\n",
              "          const element = document.querySelector('#df-49ee69d3-a2e2-4cf7-8ca8-580224f757b6');\n",
              "          const dataTable =\n",
              "            await google.colab.kernel.invokeFunction('convertToInteractive',\n",
              "                                                     [key], {});\n",
              "          if (!dataTable) return;\n",
              "\n",
              "          const docLinkHtml = 'Like what you see? Visit the ' +\n",
              "            '<a target=\"_blank\" href=https://colab.research.google.com/notebooks/data_table.ipynb>data table notebook</a>'\n",
              "            + ' to learn more about interactive tables.';\n",
              "          element.innerHTML = '';\n",
              "          dataTable['output_type'] = 'display_data';\n",
              "          await google.colab.output.renderOutput(dataTable, element);\n",
              "          const docLink = document.createElement('div');\n",
              "          docLink.innerHTML = docLinkHtml;\n",
              "          element.appendChild(docLink);\n",
              "        }\n",
              "      </script>\n",
              "    </div>\n",
              "  </div>\n",
              "  "
            ]
          },
          "metadata": {},
          "execution_count": 87
        }
      ]
    },
    {
      "cell_type": "code",
      "source": [
        "r_df.corr()"
      ],
      "metadata": {
        "colab": {
          "base_uri": "https://localhost:8080/",
          "height": 112
        },
        "id": "pLEleARYoP0R",
        "outputId": "49598191-0698-4514-e876-2bff122113b8"
      },
      "execution_count": null,
      "outputs": [
        {
          "output_type": "execute_result",
          "data": {
            "text/plain": [
              "          relacion      peso\n",
              "relacion  1.000000  0.788396\n",
              "peso      0.788396  1.000000"
            ],
            "text/html": [
              "\n",
              "  <div id=\"df-ceb180a5-7229-4016-bd15-dd1cdc91cec1\">\n",
              "    <div class=\"colab-df-container\">\n",
              "      <div>\n",
              "<style scoped>\n",
              "    .dataframe tbody tr th:only-of-type {\n",
              "        vertical-align: middle;\n",
              "    }\n",
              "\n",
              "    .dataframe tbody tr th {\n",
              "        vertical-align: top;\n",
              "    }\n",
              "\n",
              "    .dataframe thead th {\n",
              "        text-align: right;\n",
              "    }\n",
              "</style>\n",
              "<table border=\"1\" class=\"dataframe\">\n",
              "  <thead>\n",
              "    <tr style=\"text-align: right;\">\n",
              "      <th></th>\n",
              "      <th>relacion</th>\n",
              "      <th>peso</th>\n",
              "    </tr>\n",
              "  </thead>\n",
              "  <tbody>\n",
              "    <tr>\n",
              "      <th>relacion</th>\n",
              "      <td>1.000000</td>\n",
              "      <td>0.788396</td>\n",
              "    </tr>\n",
              "    <tr>\n",
              "      <th>peso</th>\n",
              "      <td>0.788396</td>\n",
              "      <td>1.000000</td>\n",
              "    </tr>\n",
              "  </tbody>\n",
              "</table>\n",
              "</div>\n",
              "      <button class=\"colab-df-convert\" onclick=\"convertToInteractive('df-ceb180a5-7229-4016-bd15-dd1cdc91cec1')\"\n",
              "              title=\"Convert this dataframe to an interactive table.\"\n",
              "              style=\"display:none;\">\n",
              "        \n",
              "  <svg xmlns=\"http://www.w3.org/2000/svg\" height=\"24px\"viewBox=\"0 0 24 24\"\n",
              "       width=\"24px\">\n",
              "    <path d=\"M0 0h24v24H0V0z\" fill=\"none\"/>\n",
              "    <path d=\"M18.56 5.44l.94 2.06.94-2.06 2.06-.94-2.06-.94-.94-2.06-.94 2.06-2.06.94zm-11 1L8.5 8.5l.94-2.06 2.06-.94-2.06-.94L8.5 2.5l-.94 2.06-2.06.94zm10 10l.94 2.06.94-2.06 2.06-.94-2.06-.94-.94-2.06-.94 2.06-2.06.94z\"/><path d=\"M17.41 7.96l-1.37-1.37c-.4-.4-.92-.59-1.43-.59-.52 0-1.04.2-1.43.59L10.3 9.45l-7.72 7.72c-.78.78-.78 2.05 0 2.83L4 21.41c.39.39.9.59 1.41.59.51 0 1.02-.2 1.41-.59l7.78-7.78 2.81-2.81c.8-.78.8-2.07 0-2.86zM5.41 20L4 18.59l7.72-7.72 1.47 1.35L5.41 20z\"/>\n",
              "  </svg>\n",
              "      </button>\n",
              "      \n",
              "  <style>\n",
              "    .colab-df-container {\n",
              "      display:flex;\n",
              "      flex-wrap:wrap;\n",
              "      gap: 12px;\n",
              "    }\n",
              "\n",
              "    .colab-df-convert {\n",
              "      background-color: #E8F0FE;\n",
              "      border: none;\n",
              "      border-radius: 50%;\n",
              "      cursor: pointer;\n",
              "      display: none;\n",
              "      fill: #1967D2;\n",
              "      height: 32px;\n",
              "      padding: 0 0 0 0;\n",
              "      width: 32px;\n",
              "    }\n",
              "\n",
              "    .colab-df-convert:hover {\n",
              "      background-color: #E2EBFA;\n",
              "      box-shadow: 0px 1px 2px rgba(60, 64, 67, 0.3), 0px 1px 3px 1px rgba(60, 64, 67, 0.15);\n",
              "      fill: #174EA6;\n",
              "    }\n",
              "\n",
              "    [theme=dark] .colab-df-convert {\n",
              "      background-color: #3B4455;\n",
              "      fill: #D2E3FC;\n",
              "    }\n",
              "\n",
              "    [theme=dark] .colab-df-convert:hover {\n",
              "      background-color: #434B5C;\n",
              "      box-shadow: 0px 1px 3px 1px rgba(0, 0, 0, 0.15);\n",
              "      filter: drop-shadow(0px 1px 2px rgba(0, 0, 0, 0.3));\n",
              "      fill: #FFFFFF;\n",
              "    }\n",
              "  </style>\n",
              "\n",
              "      <script>\n",
              "        const buttonEl =\n",
              "          document.querySelector('#df-ceb180a5-7229-4016-bd15-dd1cdc91cec1 button.colab-df-convert');\n",
              "        buttonEl.style.display =\n",
              "          google.colab.kernel.accessAllowed ? 'block' : 'none';\n",
              "\n",
              "        async function convertToInteractive(key) {\n",
              "          const element = document.querySelector('#df-ceb180a5-7229-4016-bd15-dd1cdc91cec1');\n",
              "          const dataTable =\n",
              "            await google.colab.kernel.invokeFunction('convertToInteractive',\n",
              "                                                     [key], {});\n",
              "          if (!dataTable) return;\n",
              "\n",
              "          const docLinkHtml = 'Like what you see? Visit the ' +\n",
              "            '<a target=\"_blank\" href=https://colab.research.google.com/notebooks/data_table.ipynb>data table notebook</a>'\n",
              "            + ' to learn more about interactive tables.';\n",
              "          element.innerHTML = '';\n",
              "          dataTable['output_type'] = 'display_data';\n",
              "          await google.colab.output.renderOutput(dataTable, element);\n",
              "          const docLink = document.createElement('div');\n",
              "          docLink.innerHTML = docLinkHtml;\n",
              "          element.appendChild(docLink);\n",
              "        }\n",
              "      </script>\n",
              "    </div>\n",
              "  </div>\n",
              "  "
            ]
          },
          "metadata": {},
          "execution_count": 88
        }
      ]
    }
  ]
}