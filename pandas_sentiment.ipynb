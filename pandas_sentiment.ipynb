{
  "nbformat": 4,
  "nbformat_minor": 0,
  "metadata": {
    "colab": {
      "name": "pandas_sentiment.ipynb",
      "provenance": []
    },
    "kernelspec": {
      "name": "python3",
      "display_name": "Python 3"
    },
    "language_info": {
      "name": "python"
    }
  },
  "cells": [
    {
      "cell_type": "code",
      "execution_count": null,
      "metadata": {
        "id": "2XcyjAE-o2gO"
      },
      "outputs": [],
      "source": [
        "import pandas as pd"
      ]
    },
    {
      "cell_type": "markdown",
      "source": [
        "Importamos el archivo .csv a Python mediante pandas."
      ],
      "metadata": {
        "id": "1eaf7cCFxHaH"
      }
    },
    {
      "cell_type": "code",
      "source": [
        "df = pd.read_csv('real_canelo.csv')"
      ],
      "metadata": {
        "id": "8kVzCiPipAzY"
      },
      "execution_count": null,
      "outputs": []
    },
    {
      "cell_type": "code",
      "source": [
        "print(df.to_string())"
      ],
      "metadata": {
        "id": "r-zlMJworcY2"
      },
      "execution_count": null,
      "outputs": []
    },
    {
      "cell_type": "markdown",
      "source": [
        "Analicemos el conjunto de datos. Primero, vamos a explorar cuantos datos diferentes existen en este con el método `df.nunique()`."
      ],
      "metadata": {
        "id": "m7xjRlHJ0bTP"
      }
    },
    {
      "cell_type": "code",
      "source": [
        "df.nunique()"
      ],
      "metadata": {
        "colab": {
          "base_uri": "https://localhost:8080/"
        },
        "id": "rHKcYksbyZSt",
        "outputId": "b103a317-cb12-4096-c56d-f7d8058ae0e9"
      },
      "execution_count": null,
      "outputs": [
        {
          "output_type": "execute_result",
          "data": {
            "text/plain": [
              "ab                345\n",
              "author_id         280\n",
              "text              345\n",
              "retweet_count      17\n",
              "reply_count        10\n",
              "like_count         45\n",
              "quote_count         5\n",
              "id                340\n",
              "created_at        343\n",
              "text_sentiment      4\n",
              "img_sent_1          4\n",
              "img_sent_2          4\n",
              "img_sent_3          4\n",
              "img_sent_4          3\n",
              "overall_sent        4\n",
              "media_url_1       345\n",
              "media_url_2        55\n",
              "media_url_3        24\n",
              "media_url_4        12\n",
              "dtype: int64"
            ]
          },
          "metadata": {},
          "execution_count": 6
        }
      ]
    },
    {
      "cell_type": "markdown",
      "source": [
        "Después, exploremos la cantidad de mensajes positivos, negativos y neutros en la etiqueta de sentimiento correspondiente al texto."
      ],
      "metadata": {
        "id": "6UrPxao50njE"
      }
    },
    {
      "cell_type": "code",
      "source": [
        "df['text_sentiment'].value_counts()"
      ],
      "metadata": {
        "colab": {
          "base_uri": "https://localhost:8080/"
        },
        "id": "WTMO3Iqszqug",
        "outputId": "9874d855-f1db-4e4a-cd95-54dcb6f0332b"
      },
      "execution_count": null,
      "outputs": [
        {
          "output_type": "execute_result",
          "data": {
            "text/plain": [
              " 1    181\n",
              " 0     89\n",
              " 2     50\n",
              "-1     25\n",
              "Name: text_sentiment, dtype: int64"
            ]
          },
          "metadata": {},
          "execution_count": 7
        }
      ]
    },
    {
      "cell_type": "code",
      "source": [
        "df['overall_sent'].value_counts()"
      ],
      "metadata": {
        "id": "pv95Lxeso0Od",
        "outputId": "d6a527ed-59f5-4d06-9790-25444823b530",
        "colab": {
          "base_uri": "https://localhost:8080/"
        }
      },
      "execution_count": null,
      "outputs": [
        {
          "output_type": "execute_result",
          "data": {
            "text/plain": [
              " 1    179\n",
              " 0     78\n",
              " 2     58\n",
              "-1     30\n",
              "Name: overall_sent, dtype: int64"
            ]
          },
          "metadata": {},
          "execution_count": 9
        }
      ]
    },
    {
      "cell_type": "markdown",
      "source": [
        "Vamos a graficar lo anterior"
      ],
      "metadata": {
        "id": "AyQge5qT1BxA"
      }
    },
    {
      "cell_type": "code",
      "source": [
        "df['text_sentiment'].value_counts().plot(kind='barh')"
      ],
      "metadata": {
        "colab": {
          "base_uri": "https://localhost:8080/",
          "height": 283
        },
        "id": "64xpXq2sxWS6",
        "outputId": "08e26d03-0bb5-4650-ddca-07e50d3c28fe"
      },
      "execution_count": null,
      "outputs": [
        {
          "output_type": "execute_result",
          "data": {
            "text/plain": [
              "<matplotlib.axes._subplots.AxesSubplot at 0x7f5f2e8bcfd0>"
            ]
          },
          "metadata": {},
          "execution_count": 9
        },
        {
          "output_type": "display_data",
          "data": {
            "text/plain": [
              "<Figure size 432x288 with 1 Axes>"
            ],
            "image/png": "[encoded data removed]"
          },
          "metadata": {
            "needs_background": "light"
          }
        }
      ]
    },
    {
      "cell_type": "code",
      "source": [
        "df['overall_sent'].value_counts().plot(kind='barh')"
      ],
      "metadata": {
        "colab": {
          "base_uri": "https://localhost:8080/",
          "height": 283
        },
        "id": "AC8TRY4b14nJ",
        "outputId": "8302fe20-e281-465b-e16d-ce12cd3b9366"
      },
      "execution_count": null,
      "outputs": [
        {
          "output_type": "execute_result",
          "data": {
            "text/plain": [
              "<matplotlib.axes._subplots.AxesSubplot at 0x7f5f2e1bcd50>"
            ]
          },
          "metadata": {},
          "execution_count": 10
        },
        {
          "output_type": "display_data",
          "data": {
            "text/plain": [
              "<Figure size 432x288 with 1 Axes>"
            ],
            "image/png": "[encoded data removed]"
          },
          "metadata": {
            "needs_background": "light"
          }
        }
      ]
    },
    {
      "cell_type": "code",
      "source": [
        "df2['img_sent'] = df['img_sent_1'] + df['img_sent_2'] + df['img_sent_3'] + df['img_sent_4']"
      ],
      "metadata": {
        "id": "4HkxOd6bk0U1"
      },
      "execution_count": null,
      "outputs": []
    }
  ]
}