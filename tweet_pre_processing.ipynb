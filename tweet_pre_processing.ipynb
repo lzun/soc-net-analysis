{
  "nbformat": 4,
  "nbformat_minor": 0,
  "metadata": {
    "colab": {
      "name": "tweet_pre_processing.ipynb",
      "provenance": []
    },
    "kernelspec": {
      "name": "python3",
      "display_name": "Python 3"
    },
    "language_info": {
      "name": "python"
    }
  },
  "cells": [
    {
      "cell_type": "markdown",
      "source": [
        "$x_5$"
      ],
      "metadata": {
        "id": "4QA8fdGZhTXl"
      }
    },
    {
      "cell_type": "markdown",
      "source": [
        "# Preprocesamiento de Datos"
      ],
      "metadata": {
        "id": "BovAgcDPW0st"
      }
    },
    {
      "cell_type": "code",
      "execution_count": 12,
      "metadata": {
        "id": "O02Uvy2KBb_k"
      },
      "outputs": [],
      "source": [
        "import re\n",
        "import string"
      ]
    },
    {
      "cell_type": "markdown",
      "source": [
        "Les recomiendo este sitio para investigar qué significa cada regex: https://regexr.com/"
      ],
      "metadata": {
        "id": "Sd7BNPrJHLX0"
      }
    },
    {
      "cell_type": "code",
      "source": [
        "tweet = \"Hola muuundooo #Twitter @usuario $AMX 15 años!!! https://tw.com \""
      ],
      "metadata": {
        "id": "2DCjQAb6BkGO"
      },
      "execution_count": 13,
      "outputs": []
    },
    {
      "cell_type": "markdown",
      "source": [
        "Sustitución de hashtags:"
      ],
      "metadata": {
        "id": "hFgJ1uPrBeBu"
      }
    },
    {
      "cell_type": "code",
      "source": [
        "clean_tweet = re.sub('#[A-Za-z0-9_]+', 'htag',tweet)\n",
        "print(clean_tweet)"
      ],
      "metadata": {
        "colab": {
          "base_uri": "https://localhost:8080/"
        },
        "id": "1Au2Jz7TBdhk",
        "outputId": "a7495936-cc34-470e-d7a8-25a497689908"
      },
      "execution_count": 14,
      "outputs": [
        {
          "output_type": "stream",
          "name": "stdout",
          "text": [
            "Hola muuundooo htag @usuario $AMX 15 años!!! https://tw.com \n"
          ]
        }
      ]
    },
    {
      "cell_type": "markdown",
      "source": [
        "Remover cashtags:"
      ],
      "metadata": {
        "id": "H_3_MA3ACzjR"
      }
    },
    {
      "cell_type": "code",
      "source": [
        "clean_tweet = re.sub('\\$[A-Za-z0-9_]+', 'ctag',clean_tweet)\n",
        "print(clean_tweet)"
      ],
      "metadata": {
        "colab": {
          "base_uri": "https://localhost:8080/"
        },
        "id": "xzrJ8S6YC4dM",
        "outputId": "b17051e8-b093-477d-c9f0-39324da6a40b"
      },
      "execution_count": 15,
      "outputs": [
        {
          "output_type": "stream",
          "name": "stdout",
          "text": [
            "Hola muuundooo htag @usuario ctag 15 años!!! https://tw.com \n"
          ]
        }
      ]
    },
    {
      "cell_type": "markdown",
      "source": [
        "Remover nombres de usuario:"
      ],
      "metadata": {
        "id": "Hcm33EJMDGvp"
      }
    },
    {
      "cell_type": "code",
      "source": [
        "clean_tweet = re.sub('@[A-Za-z0-9_]+', 'user',clean_tweet)\n",
        "print(clean_tweet)"
      ],
      "metadata": {
        "colab": {
          "base_uri": "https://localhost:8080/"
        },
        "id": "WdcWPx9ADEN3",
        "outputId": "e388f12d-4f8d-462d-b3e2-86fcd7ecef9f"
      },
      "execution_count": 16,
      "outputs": [
        {
          "output_type": "stream",
          "name": "stdout",
          "text": [
            "Hola muuundooo htag user ctag 15 años!!! https://tw.com \n"
          ]
        }
      ]
    },
    {
      "cell_type": "markdown",
      "source": [
        "Eliminar enlaces:"
      ],
      "metadata": {
        "id": "J304t7zSFUZc"
      }
    },
    {
      "cell_type": "code",
      "source": [
        "clean_tweet = re.sub('http[s]?://(?:[a-zA-Z]|[0-9]|[$-_@.&+]|[!*\\(\\),]|(?:%[0-9a-fA-F][0-9a-fA-F]))+', 'url', clean_tweet)\n",
        "print(clean_tweet)"
      ],
      "metadata": {
        "colab": {
          "base_uri": "https://localhost:8080/"
        },
        "id": "dF6XZSnbFQuS",
        "outputId": "65a646dc-86f8-4d21-9623-0963d06e6994"
      },
      "execution_count": 17,
      "outputs": [
        {
          "output_type": "stream",
          "name": "stdout",
          "text": [
            "Hola muuundooo htag user ctag 15 años!!! url \n"
          ]
        }
      ]
    },
    {
      "cell_type": "markdown",
      "source": [
        "Remover signos de puntuación:"
      ],
      "metadata": {
        "id": "8Cb8j0Z_DdP_"
      }
    },
    {
      "cell_type": "code",
      "source": [
        "clean_tweet = re.compile('[%s]' % re.escape(string.punctuation)).sub('',clean_tweet)"
      ],
      "metadata": {
        "id": "SYNmBQ88Dcc-"
      },
      "execution_count": 18,
      "outputs": []
    },
    {
      "cell_type": "code",
      "source": [
        "print(clean_tweet)"
      ],
      "metadata": {
        "colab": {
          "base_uri": "https://localhost:8080/"
        },
        "id": "l2q2wWt7ErZT",
        "outputId": "4223d819-f8d7-4766-f0fc-51a5bde6b4e9"
      },
      "execution_count": null,
      "outputs": [
        {
          "output_type": "stream",
          "name": "stdout",
          "text": [
            "Hola muuundooo htag user ctag 15 años url \n"
          ]
        }
      ]
    },
    {
      "cell_type": "markdown",
      "source": [
        "Eliminar números:"
      ],
      "metadata": {
        "id": "5xQVOAMXEn27"
      }
    },
    {
      "cell_type": "code",
      "source": [
        "clean_tweet = re.sub('[0-9_]+', 'xyz', clean_tweet)\n",
        "print(clean_tweet)"
      ],
      "metadata": {
        "colab": {
          "base_uri": "https://localhost:8080/"
        },
        "id": "TDoNqraKDY7n",
        "outputId": "18066479-7209-46b5-d2d4-184915172834"
      },
      "execution_count": 21,
      "outputs": [
        {
          "output_type": "stream",
          "name": "stdout",
          "text": [
            "Hola muuundooo htag user ctag xyz años url \n"
          ]
        }
      ]
    },
    {
      "cell_type": "markdown",
      "source": [
        "**Ejercicio**: ¿Cómo eliminarían letras contiguas repetidas? Recuerden que se deben conservar máximo 2 de ellas."
      ],
      "metadata": {
        "id": "vxY4pkF3GsQx"
      }
    },
    {
      "cell_type": "code",
      "source": [
        "clean_tweet = re.sub(r'(.)\\1{2,}', r'\\1', clean_tweet)\n",
        "print(clean_tweet)"
      ],
      "metadata": {
        "colab": {
          "base_uri": "https://localhost:8080/"
        },
        "id": "eeWGA4NvGryQ",
        "outputId": "276271de-8c1b-459e-96f6-c05f47f71ed7"
      },
      "execution_count": 22,
      "outputs": [
        {
          "output_type": "stream",
          "name": "stdout",
          "text": [
            "Hola mundo htag user ctag xyz años url \n"
          ]
        }
      ]
    },
    {
      "cell_type": "markdown",
      "source": [
        "# Procesamiento de datos\n",
        "\n",
        "Tokenización: separar palabras de una oración"
      ],
      "metadata": {
        "id": "zt-bhAVBWrAc"
      }
    },
    {
      "cell_type": "code",
      "source": [
        "import nltk\n",
        "from nltk.tokenize import word_tokenize\n",
        "from nltk.stem import WordNetLemmatizer\n",
        "from nltk.stem import PorterStemmer\n",
        "from nltk.corpus import stopwords"
      ],
      "metadata": {
        "id": "ezfFwhtCWqbb"
      },
      "execution_count": 23,
      "outputs": []
    },
    {
      "cell_type": "code",
      "source": [
        "nltk.download(\"book\")"
      ],
      "metadata": {
        "id": "AKsmTx15XKQT"
      },
      "execution_count": null,
      "outputs": []
    },
    {
      "cell_type": "code",
      "source": [
        "tok_tweet = word_tokenize(clean_tweet)\n",
        "print(tok_tweet)"
      ],
      "metadata": {
        "colab": {
          "base_uri": "https://localhost:8080/"
        },
        "id": "J4IrLKfuXRA1",
        "outputId": "f89cb970-a657-40aa-df8d-f2adf18b0a83"
      },
      "execution_count": 25,
      "outputs": [
        {
          "output_type": "stream",
          "name": "stdout",
          "text": [
            "['Hola', 'mundo', 'htag', 'user', 'ctag', 'xyz', 'años', 'url']\n"
          ]
        }
      ]
    },
    {
      "cell_type": "markdown",
      "source": [
        "Transformamos a letra minúscula"
      ],
      "metadata": {
        "id": "82EnWDWnXeL-"
      }
    },
    {
      "cell_type": "code",
      "source": [
        "low_tweet = [j.lower() for j in tok_tweet]\n",
        "print(low_tweet)"
      ],
      "metadata": {
        "colab": {
          "base_uri": "https://localhost:8080/"
        },
        "id": "o3n76WQtXdug",
        "outputId": "bd869d45-b85a-447a-f69d-38e296c21779"
      },
      "execution_count": 26,
      "outputs": [
        {
          "output_type": "stream",
          "name": "stdout",
          "text": [
            "['hola', 'mundo', 'htag', 'user', 'ctag', 'xyz', 'años', 'url']\n"
          ]
        }
      ]
    },
    {
      "cell_type": "markdown",
      "source": [
        "Quitemos palabras vacías (*stopwords*)"
      ],
      "metadata": {
        "id": "_3As35qXIkfq"
      }
    },
    {
      "cell_type": "code",
      "source": [
        "stop_words = list(stopwords.words('spanish'))"
      ],
      "metadata": {
        "id": "ooCf-u8RIoQs"
      },
      "execution_count": null,
      "outputs": []
    },
    {
      "cell_type": "code",
      "source": [
        "stop_words.append('user')\n",
        "stop_words.append('htag')\n",
        "stop_words.append('ctag')\n",
        "stop_words.append('xyz')\n",
        "stop_words.append('mail')\n",
        "stop_words.append('url')\n",
        "stop_words.append('')\n",
        "stop_words.append('rt')\n",
        "stop_words.append('qt')"
      ],
      "metadata": {
        "id": "-ejXbhVdItRW"
      },
      "execution_count": null,
      "outputs": []
    },
    {
      "cell_type": "code",
      "source": [
        "filtered_tweet = [w for w in low_tweet if not w in stop_words]"
      ],
      "metadata": {
        "id": "5ZhxWk5VI1vV"
      },
      "execution_count": null,
      "outputs": []
    },
    {
      "cell_type": "code",
      "source": [
        "print(filtered_tweet)"
      ],
      "metadata": {
        "colab": {
          "base_uri": "https://localhost:8080/"
        },
        "id": "YN8Scr9dJFgi",
        "outputId": "00fff3f8-ccc9-4189-9320-0513a77729e0"
      },
      "execution_count": null,
      "outputs": [
        {
          "output_type": "stream",
          "name": "stdout",
          "text": [
            "['hola', 'mundo', 'años']\n"
          ]
        }
      ]
    },
    {
      "cell_type": "markdown",
      "source": [
        "Vamos a realizar stemming\n"
      ],
      "metadata": {
        "id": "ttEEgFE0XrxI"
      }
    },
    {
      "cell_type": "code",
      "source": [
        "ps = PorterStemmer()"
      ],
      "metadata": {
        "id": "htOAHvChH5eN"
      },
      "execution_count": null,
      "outputs": []
    },
    {
      "cell_type": "code",
      "source": [
        "stem_tweet = [ps.stem(j) for j in filtered_tweet]"
      ],
      "metadata": {
        "id": "aDxUpFnJH-RT"
      },
      "execution_count": null,
      "outputs": []
    },
    {
      "cell_type": "code",
      "source": [
        "print(stem_tweet)"
      ],
      "metadata": {
        "colab": {
          "base_uri": "https://localhost:8080/"
        },
        "id": "Qsi_Z_2cIMxL",
        "outputId": "76f78a36-4c1d-401f-afca-9982be6cbdb6"
      },
      "execution_count": null,
      "outputs": [
        {
          "output_type": "stream",
          "name": "stdout",
          "text": [
            "['hola', 'mundo', 'año']\n"
          ]
        }
      ]
    }
  ]
}