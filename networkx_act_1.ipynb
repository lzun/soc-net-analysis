{
  "nbformat": 4,
  "nbformat_minor": 0,
  "metadata": {
    "colab": {
      "name": "networkx-act-1.ipynb",
      "provenance": []
    },
    "kernelspec": {
      "name": "python3",
      "display_name": "Python 3"
    },
    "language_info": {
      "name": "python"
    }
  },
  "cells": [
    {
      "cell_type": "markdown",
      "source": [
        "En este libro de jupyter vamos a realizar una pequeña actividad cuyo fin es explorar la manera en la que se pueden representar y subir grafos a un archivo Python."
      ],
      "metadata": {
        "id": "jWdFjZoFeiqm"
      }
    },
    {
      "cell_type": "code",
      "execution_count": null,
      "metadata": {
        "id": "QkA5qgupeW1O"
      },
      "outputs": [],
      "source": [
        "import networkx as nx\n",
        "import numpy as np\n",
        "import pandas as pd"
      ]
    },
    {
      "cell_type": "code",
      "source": [
        "# Instantiate the graph\n",
        "G1 = nx.Graph()\n",
        "# add node/edge pairs\n",
        "G1.add_edges_from([(0, 1),\n",
        "                   (0, 2),\n",
        "                   (0, 3),\n",
        "                   (0, 5),\n",
        "                   (1, 3),\n",
        "                   (1, 6),\n",
        "                   (3, 4),\n",
        "                   (4, 5),\n",
        "                   (4, 7),\n",
        "                   (5, 8),\n",
        "                   (8, 9)])\n",
        "\n",
        "# draw the network G1\n",
        "nx.draw_networkx(G1)"
      ],
      "metadata": {
        "colab": {
          "base_uri": "https://localhost:8080/",
          "height": 248
        },
        "id": "lFxnpYeZgQPt",
        "outputId": "61b9d949-a822-4fd1-c898-079868aa1fe4"
      },
      "execution_count": null,
      "outputs": [
        {
          "output_type": "display_data",
          "data": {
            "text/plain": [
              "<Figure size 432x288 with 1 Axes>"
            ],
            "image/png": "[encoded data removed]"
          },
          "metadata": {}
        }
      ]
    },
    {
      "cell_type": "markdown",
      "source": [
        "##Actividad 1\n",
        "\n",
        "Lista de adyacencia."
      ],
      "metadata": {
        "id": "iulyKp-KhJBi"
      }
    },
    {
      "cell_type": "code",
      "source": [
        "# importamos el archivo\n",
        "G2 = nx.read_adjlist('G_adjlist.txt', nodetype=int)\n",
        "G2.edges()"
      ],
      "metadata": {
        "colab": {
          "base_uri": "https://localhost:8080/"
        },
        "id": "eOlvZiL6hIel",
        "outputId": "44212831-0035-404c-e12c-8ebc1e55771d"
      },
      "execution_count": null,
      "outputs": [
        {
          "output_type": "execute_result",
          "data": {
            "text/plain": [
              "EdgeView([(0, 1), (0, 2), (0, 3), (0, 5), (1, 3), (1, 6), (3, 4), (5, 4), (5, 8), (4, 7), (8, 9)])"
            ]
          },
          "metadata": {},
          "execution_count": 3
        }
      ]
    },
    {
      "cell_type": "code",
      "source": [
        "# graficamos el grafo\n",
        "nx.draw_networkx(G2)"
      ],
      "metadata": {
        "colab": {
          "base_uri": "https://localhost:8080/",
          "height": 248
        },
        "id": "92HfpY1Qk2SG",
        "outputId": "bd85a21a-b9de-4c3e-87cc-01dc061e7a2f"
      },
      "execution_count": null,
      "outputs": [
        {
          "output_type": "display_data",
          "data": {
            "text/plain": [
              "<Figure size 432x288 with 1 Axes>"
            ],
            "image/png": "[encoded data removed]"
          },
          "metadata": {}
        }
      ]
    },
    {
      "cell_type": "markdown",
      "source": [
        "##Actividad 2\n",
        "Matriz de adyacencia"
      ],
      "metadata": {
        "id": "WmHZRg-ThTQ0"
      }
    },
    {
      "cell_type": "code",
      "source": [
        "G_mat = np.array([[0, 1, 1, 1, 0, 1, 0, 0, 0, 0],\n",
        "                  [1, 0, 0, 1, 0, 0, 1, 0, 0, 0],\n",
        "                  [1, 0, 0, 0, 0, 0, 0, 0, 0, 0],\n",
        "                  [1, 1, 0, 0, 1, 0, 0, 0, 0, 0],\n",
        "                  [0, 0, 0, 1, 0, 1, 0, 1, 0, 0],\n",
        "                  [1, 0, 0, 0, 1, 0, 0, 0, 1, 0],\n",
        "                  [0, 1, 0, 0, 0, 0, 0, 0, 0, 0],\n",
        "                  [0, 0, 0, 0, 1, 0, 0, 0, 0, 0],\n",
        "                  [0, 0, 0, 0, 0, 1, 0, 0, 0, 1],\n",
        "                  [0, 0, 0, 0, 0, 0, 0, 0, 1, 0]])\n",
        "G_mat"
      ],
      "metadata": {
        "colab": {
          "base_uri": "https://localhost:8080/"
        },
        "id": "878QgT8NhSye",
        "outputId": "bcdbd0e6-2fe0-4003-9f4f-ea682b72c6e2"
      },
      "execution_count": null,
      "outputs": [
        {
          "output_type": "execute_result",
          "data": {
            "text/plain": [
              "array([[0, 1, 1, 1, 0, 1, 0, 0, 0, 0],\n",
              "       [1, 0, 0, 1, 0, 0, 1, 0, 0, 0],\n",
              "       [1, 0, 0, 0, 0, 0, 0, 0, 0, 0],\n",
              "       [1, 1, 0, 0, 1, 0, 0, 0, 0, 0],\n",
              "       [0, 0, 0, 1, 0, 1, 0, 1, 0, 0],\n",
              "       [1, 0, 0, 0, 1, 0, 0, 0, 1, 0],\n",
              "       [0, 1, 0, 0, 0, 0, 0, 0, 0, 0],\n",
              "       [0, 0, 0, 0, 1, 0, 0, 0, 0, 0],\n",
              "       [0, 0, 0, 0, 0, 1, 0, 0, 0, 1],\n",
              "       [0, 0, 0, 0, 0, 0, 0, 0, 1, 0]])"
            ]
          },
          "metadata": {},
          "execution_count": 6
        }
      ]
    },
    {
      "cell_type": "code",
      "source": [
        "# verificar el grafo\n",
        "G3 = nx.Graph(G_mat)\n",
        "G3.edges()"
      ],
      "metadata": {
        "colab": {
          "base_uri": "https://localhost:8080/"
        },
        "id": "8373jG_HlO6Y",
        "outputId": "c1b90fa9-1f26-48aa-bb58-9f07ee84c90d"
      },
      "execution_count": null,
      "outputs": [
        {
          "output_type": "execute_result",
          "data": {
            "text/plain": [
              "EdgeView([(0, 1), (0, 2), (0, 3), (0, 5), (1, 3), (1, 6), (3, 4), (4, 5), (4, 7), (5, 8), (8, 9)])"
            ]
          },
          "metadata": {},
          "execution_count": 11
        }
      ]
    },
    {
      "cell_type": "code",
      "source": [
        "# graficar\n",
        "nx.draw_networkx(G3)"
      ],
      "metadata": {
        "colab": {
          "base_uri": "https://localhost:8080/",
          "height": 248
        },
        "id": "HKZF_rWylYu5",
        "outputId": "8ed398de-12b3-4de2-f707-2c7048c7d291"
      },
      "execution_count": null,
      "outputs": [
        {
          "output_type": "display_data",
          "data": {
            "text/plain": [
              "<Figure size 432x288 with 1 Axes>"
            ],
            "image/png": "[encoded data removed]"
          },
          "metadata": {}
        }
      ]
    },
    {
      "cell_type": "markdown",
      "source": [
        "##Lista de Enlacces"
      ],
      "metadata": {
        "id": "yh38yHlamL6p"
      }
    },
    {
      "cell_type": "code",
      "source": [
        "# importar los datos\n",
        "G4 = nx.read_edgelist('G_edgelist.txt', data=[('Weight', int)])\n",
        "G4.edges(data=True)"
      ],
      "metadata": {
        "colab": {
          "base_uri": "https://localhost:8080/"
        },
        "id": "04t-HEwmmOUS",
        "outputId": "11b78c57-287b-4581-a1c7-23eac6991eaa"
      },
      "execution_count": null,
      "outputs": [
        {
          "output_type": "execute_result",
          "data": {
            "text/plain": [
              "EdgeDataView([('0', '1', {'Weight': 4}), ('0', '2', {'Weight': 3}), ('0', '3', {'Weight': 2}), ('0', '5', {'Weight': 6}), ('1', '3', {'Weight': 2}), ('1', '6', {'Weight': 5}), ('3', '4', {'Weight': 3}), ('5', '4', {'Weight': 1}), ('5', '8', {'Weight': 6}), ('4', '7', {'Weight': 2}), ('8', '9', {'Weight': 1})])"
            ]
          },
          "metadata": {},
          "execution_count": 13
        }
      ]
    },
    {
      "cell_type": "code",
      "source": [
        "# graficar\n",
        "pos = nx.spring_layout(G4)\n",
        "nx.draw_networkx(G4, pos)\n",
        "labels = nx.get_edge_attributes(G4,'Weight')\n",
        "nx.draw_networkx_edge_labels(G4,pos,edge_labels=labels)"
      ],
      "metadata": {
        "colab": {
          "base_uri": "https://localhost:8080/",
          "height": 439
        },
        "id": "6xwWVo4imYfY",
        "outputId": "d4a60941-48ac-4f32-ee33-a30b27d490a7"
      },
      "execution_count": null,
      "outputs": [
        {
          "output_type": "execute_result",
          "data": {
            "text/plain": [
              "{('0', '1'): Text(0.09025377600230529, -0.019593336646945833, '4'),\n",
              " ('0', '2'): Text(0.11872517949445119, -0.43804788372567116, '3'),\n",
              " ('0', '3'): Text(0.191060423483475, -0.14823338822093984, '2'),\n",
              " ('0', '5'): Text(-0.02797282727611341, -0.13783426087074363, '6'),\n",
              " ('1', '3'): Text(0.19287368484262737, 0.06784857024199083, '2'),\n",
              " ('1', '6'): Text(0.060394951744639755, 0.39857941600008695, '5'),\n",
              " ('3', '4'): Text(0.33183149987702726, 0.04187808147560343, '3'),\n",
              " ('4', '7'): Text(0.560360246339989, 0.21777159384162828, '2'),\n",
              " ('5', '4'): Text(0.11279824911743885, 0.05227720882579963, '1'),\n",
              " ('5', '8'): Text(-0.38632054374097813, -0.07167076233795823, '6'),\n",
              " ('8', '9'): Text(-0.8141274591432883, -0.12791077213423718, '1')}"
            ]
          },
          "metadata": {},
          "execution_count": 14
        },
        {
          "output_type": "display_data",
          "data": {
            "text/plain": [
              "<Figure size 432x288 with 1 Axes>"
            ],
            "image/png": "[encoded data removed]"
          },
          "metadata": {}
        }
      ]
    },
    {
      "cell_type": "markdown",
      "source": [
        "##Pandas\n",
        "\n",
        "Es posible subir los grafos en un DataFrame, pero sólo si es en la forma de lista de enlaces."
      ],
      "metadata": {
        "id": "H0W15VKsm03y"
      }
    },
    {
      "cell_type": "code",
      "source": [
        "G_df = pd.read_csv('G_edgelist.txt', delim_whitespace=True, header=None, names=['n1', 'n2', 'weight'])\n",
        "G_df"
      ],
      "metadata": {
        "colab": {
          "base_uri": "https://localhost:8080/",
          "height": 394
        },
        "id": "vVXG6-Zum3UZ",
        "outputId": "343db55e-e27f-4620-9713-34bcf2e71335"
      },
      "execution_count": null,
      "outputs": [
        {
          "output_type": "execute_result",
          "data": {
            "text/plain": [
              "    n1  n2  weight\n",
              "0    0   1       4\n",
              "1    0   2       3\n",
              "2    0   3       2\n",
              "3    0   5       6\n",
              "4    1   3       2\n",
              "5    1   6       5\n",
              "6    3   4       3\n",
              "7    4   5       1\n",
              "8    4   7       2\n",
              "9    5   8       6\n",
              "10   8   9       1"
            ],
            "text/html": [
              "\n",
              "  <div id=\"df-d4d876cb-65ab-457d-8224-f89be5fed30f\">\n",
              "    <div class=\"colab-df-container\">\n",
              "      <div>\n",
              "<style scoped>\n",
              "    .dataframe tbody tr th:only-of-type {\n",
              "        vertical-align: middle;\n",
              "    }\n",
              "\n",
              "    .dataframe tbody tr th {\n",
              "        vertical-align: top;\n",
              "    }\n",
              "\n",
              "    .dataframe thead th {\n",
              "        text-align: right;\n",
              "    }\n",
              "</style>\n",
              "<table border=\"1\" class=\"dataframe\">\n",
              "  <thead>\n",
              "    <tr style=\"text-align: right;\">\n",
              "      <th></th>\n",
              "      <th>n1</th>\n",
              "      <th>n2</th>\n",
              "      <th>weight</th>\n",
              "    </tr>\n",
              "  </thead>\n",
              "  <tbody>\n",
              "    <tr>\n",
              "      <th>0</th>\n",
              "      <td>0</td>\n",
              "      <td>1</td>\n",
              "      <td>4</td>\n",
              "    </tr>\n",
              "    <tr>\n",
              "      <th>1</th>\n",
              "      <td>0</td>\n",
              "      <td>2</td>\n",
              "      <td>3</td>\n",
              "    </tr>\n",
              "    <tr>\n",
              "      <th>2</th>\n",
              "      <td>0</td>\n",
              "      <td>3</td>\n",
              "      <td>2</td>\n",
              "    </tr>\n",
              "    <tr>\n",
              "      <th>3</th>\n",
              "      <td>0</td>\n",
              "      <td>5</td>\n",
              "      <td>6</td>\n",
              "    </tr>\n",
              "    <tr>\n",
              "      <th>4</th>\n",
              "      <td>1</td>\n",
              "      <td>3</td>\n",
              "      <td>2</td>\n",
              "    </tr>\n",
              "    <tr>\n",
              "      <th>5</th>\n",
              "      <td>1</td>\n",
              "      <td>6</td>\n",
              "      <td>5</td>\n",
              "    </tr>\n",
              "    <tr>\n",
              "      <th>6</th>\n",
              "      <td>3</td>\n",
              "      <td>4</td>\n",
              "      <td>3</td>\n",
              "    </tr>\n",
              "    <tr>\n",
              "      <th>7</th>\n",
              "      <td>4</td>\n",
              "      <td>5</td>\n",
              "      <td>1</td>\n",
              "    </tr>\n",
              "    <tr>\n",
              "      <th>8</th>\n",
              "      <td>4</td>\n",
              "      <td>7</td>\n",
              "      <td>2</td>\n",
              "    </tr>\n",
              "    <tr>\n",
              "      <th>9</th>\n",
              "      <td>5</td>\n",
              "      <td>8</td>\n",
              "      <td>6</td>\n",
              "    </tr>\n",
              "    <tr>\n",
              "      <th>10</th>\n",
              "      <td>8</td>\n",
              "      <td>9</td>\n",
              "      <td>1</td>\n",
              "    </tr>\n",
              "  </tbody>\n",
              "</table>\n",
              "</div>\n",
              "      <button class=\"colab-df-convert\" onclick=\"convertToInteractive('df-d4d876cb-65ab-457d-8224-f89be5fed30f')\"\n",
              "              title=\"Convert this dataframe to an interactive table.\"\n",
              "              style=\"display:none;\">\n",
              "        \n",
              "  <svg xmlns=\"http://www.w3.org/2000/svg\" height=\"24px\"viewBox=\"0 0 24 24\"\n",
              "       width=\"24px\">\n",
              "    <path d=\"M0 0h24v24H0V0z\" fill=\"none\"/>\n",
              "    <path d=\"M18.56 5.44l.94 2.06.94-2.06 2.06-.94-2.06-.94-.94-2.06-.94 2.06-2.06.94zm-11 1L8.5 8.5l.94-2.06 2.06-.94-2.06-.94L8.5 2.5l-.94 2.06-2.06.94zm10 10l.94 2.06.94-2.06 2.06-.94-2.06-.94-.94-2.06-.94 2.06-2.06.94z\"/><path d=\"M17.41 7.96l-1.37-1.37c-.4-.4-.92-.59-1.43-.59-.52 0-1.04.2-1.43.59L10.3 9.45l-7.72 7.72c-.78.78-.78 2.05 0 2.83L4 21.41c.39.39.9.59 1.41.59.51 0 1.02-.2 1.41-.59l7.78-7.78 2.81-2.81c.8-.78.8-2.07 0-2.86zM5.41 20L4 18.59l7.72-7.72 1.47 1.35L5.41 20z\"/>\n",
              "  </svg>\n",
              "      </button>\n",
              "      \n",
              "  <style>\n",
              "    .colab-df-container {\n",
              "      display:flex;\n",
              "      flex-wrap:wrap;\n",
              "      gap: 12px;\n",
              "    }\n",
              "\n",
              "    .colab-df-convert {\n",
              "      background-color: #E8F0FE;\n",
              "      border: none;\n",
              "      border-radius: 50%;\n",
              "      cursor: pointer;\n",
              "      display: none;\n",
              "      fill: #1967D2;\n",
              "      height: 32px;\n",
              "      padding: 0 0 0 0;\n",
              "      width: 32px;\n",
              "    }\n",
              "\n",
              "    .colab-df-convert:hover {\n",
              "      background-color: #E2EBFA;\n",
              "      box-shadow: 0px 1px 2px rgba(60, 64, 67, 0.3), 0px 1px 3px 1px rgba(60, 64, 67, 0.15);\n",
              "      fill: #174EA6;\n",
              "    }\n",
              "\n",
              "    [theme=dark] .colab-df-convert {\n",
              "      background-color: #3B4455;\n",
              "      fill: #D2E3FC;\n",
              "    }\n",
              "\n",
              "    [theme=dark] .colab-df-convert:hover {\n",
              "      background-color: #434B5C;\n",
              "      box-shadow: 0px 1px 3px 1px rgba(0, 0, 0, 0.15);\n",
              "      filter: drop-shadow(0px 1px 2px rgba(0, 0, 0, 0.3));\n",
              "      fill: #FFFFFF;\n",
              "    }\n",
              "  </style>\n",
              "\n",
              "      <script>\n",
              "        const buttonEl =\n",
              "          document.querySelector('#df-d4d876cb-65ab-457d-8224-f89be5fed30f button.colab-df-convert');\n",
              "        buttonEl.style.display =\n",
              "          google.colab.kernel.accessAllowed ? 'block' : 'none';\n",
              "\n",
              "        async function convertToInteractive(key) {\n",
              "          const element = document.querySelector('#df-d4d876cb-65ab-457d-8224-f89be5fed30f');\n",
              "          const dataTable =\n",
              "            await google.colab.kernel.invokeFunction('convertToInteractive',\n",
              "                                                     [key], {});\n",
              "          if (!dataTable) return;\n",
              "\n",
              "          const docLinkHtml = 'Like what you see? Visit the ' +\n",
              "            '<a target=\"_blank\" href=https://colab.research.google.com/notebooks/data_table.ipynb>data table notebook</a>'\n",
              "            + ' to learn more about interactive tables.';\n",
              "          element.innerHTML = '';\n",
              "          dataTable['output_type'] = 'display_data';\n",
              "          await google.colab.output.renderOutput(dataTable, element);\n",
              "          const docLink = document.createElement('div');\n",
              "          docLink.innerHTML = docLinkHtml;\n",
              "          element.appendChild(docLink);\n",
              "        }\n",
              "      </script>\n",
              "    </div>\n",
              "  </div>\n",
              "  "
            ]
          },
          "metadata": {},
          "execution_count": 16
        }
      ]
    },
    {
      "cell_type": "code",
      "source": [
        "G5 = nx.from_pandas_edgelist(G_df, 'n1', 'n2', edge_attr='weight')\n",
        "G5.edges(data=True)"
      ],
      "metadata": {
        "colab": {
          "base_uri": "https://localhost:8080/"
        },
        "id": "IUpUsg2JnQ5-",
        "outputId": "fb5c1add-0bb4-4e3d-c2d7-43682713caba"
      },
      "execution_count": null,
      "outputs": [
        {
          "output_type": "execute_result",
          "data": {
            "text/plain": [
              "EdgeDataView([(0, 1, {'weight': 4}), (0, 2, {'weight': 3}), (0, 3, {'weight': 2}), (0, 5, {'weight': 6}), (1, 3, {'weight': 2}), (1, 6, {'weight': 5}), (3, 4, {'weight': 3}), (5, 4, {'weight': 1}), (5, 8, {'weight': 6}), (4, 7, {'weight': 2}), (8, 9, {'weight': 1})])"
            ]
          },
          "metadata": {},
          "execution_count": 18
        }
      ]
    },
    {
      "cell_type": "code",
      "source": [
        "# graficar\n",
        "pos = nx.spring_layout(G5)\n",
        "nx.draw_networkx(G5, pos)\n",
        "labels = nx.get_edge_attributes(G5,'weight')\n",
        "nx.draw_networkx_edge_labels(G5,pos,edge_labels=labels)"
      ],
      "metadata": {
        "colab": {
          "base_uri": "https://localhost:8080/",
          "height": 439
        },
        "id": "rEjAHrpKnaRN",
        "outputId": "803554c0-6d23-466c-fc42-d7ad59d6128b"
      },
      "execution_count": null,
      "outputs": [
        {
          "output_type": "execute_result",
          "data": {
            "text/plain": [
              "{(0, 1): Text(0.04206412536583799, -0.059022577750696276, '4'),\n",
              " (0, 2): Text(-0.25174478864639355, 0.14205675271205243, '3'),\n",
              " (0, 3): Text(-0.1074367233361386, -0.1025223052789723, '2'),\n",
              " (0, 5): Text(-0.025095017682202098, 0.1478299985189926, '6'),\n",
              " (1, 3): Text(0.024070632554167568, -0.21687239367769862, '2'),\n",
              " (1, 6): Text(0.2996358705682243, -0.2382071420579369, '5'),\n",
              " (3, 4): Text(-0.18152901175488212, -0.36001226112007856, '3'),\n",
              " (4, 7): Text(-0.30902744441767904, -0.6565734473953778, '2'),\n",
              " (5, 4): Text(-0.0991873061009456, -0.1096599573221137, '1'),\n",
              " (5, 8): Text(0.11101947713974107, 0.38290989734424985, '6'),\n",
              " (8, 9): Text(0.30422487298972056, 0.7627436541492723, '1')}"
            ]
          },
          "metadata": {},
          "execution_count": 20
        },
        {
          "output_type": "display_data",
          "data": {
            "text/plain": [
              "<Figure size 432x288 with 1 Axes>"
            ],
            "image/png": "[encoded data removed]"
          },
          "metadata": {}
        }
      ]
    }
  ]
}